{
 "cells": [
  {
   "cell_type": "code",
   "execution_count": 1,
   "id": "6d9afa1b",
   "metadata": {
    "_cell_guid": "b1076dfc-b9ad-4769-8c92-a6c4dae69d19",
    "_uuid": "8f2839f25d086af736a60e9eeb907d3b93b6e0e5",
    "execution": {
     "iopub.execute_input": "2023-08-23T13:17:29.990148Z",
     "iopub.status.busy": "2023-08-23T13:17:29.989065Z",
     "iopub.status.idle": "2023-08-23T13:17:38.143322Z",
     "shell.execute_reply": "2023-08-23T13:17:38.142227Z"
    },
    "papermill": {
     "duration": 8.161808,
     "end_time": "2023-08-23T13:17:38.145918",
     "exception": false,
     "start_time": "2023-08-23T13:17:29.984110",
     "status": "completed"
    },
    "tags": []
   },
   "outputs": [
    {
     "name": "stderr",
     "output_type": "stream",
     "text": [
      "/opt/conda/lib/python3.10/site-packages/scipy/__init__.py:146: UserWarning: A NumPy version >=1.16.5 and <1.23.0 is required for this version of SciPy (detected version 1.23.5\n",
      "  warnings.warn(f\"A NumPy version >={np_minversion} and <{np_maxversion}\"\n",
      "/opt/conda/lib/python3.10/site-packages/tensorflow_io/python/ops/__init__.py:98: UserWarning: unable to load libtensorflow_io_plugins.so: unable to open file: libtensorflow_io_plugins.so, from paths: ['/opt/conda/lib/python3.10/site-packages/tensorflow_io/python/ops/libtensorflow_io_plugins.so']\n",
      "caused by: ['/opt/conda/lib/python3.10/site-packages/tensorflow_io/python/ops/libtensorflow_io_plugins.so: undefined symbol: _ZN3tsl6StatusC1EN10tensorflow5error4CodeESt17basic_string_viewIcSt11char_traitsIcEENS_14SourceLocationE']\n",
      "  warnings.warn(f\"unable to load libtensorflow_io_plugins.so: {e}\")\n",
      "/opt/conda/lib/python3.10/site-packages/tensorflow_io/python/ops/__init__.py:104: UserWarning: file system plugins are not loaded: unable to open file: libtensorflow_io.so, from paths: ['/opt/conda/lib/python3.10/site-packages/tensorflow_io/python/ops/libtensorflow_io.so']\n",
      "caused by: ['/opt/conda/lib/python3.10/site-packages/tensorflow_io/python/ops/libtensorflow_io.so: undefined symbol: _ZTVN10tensorflow13GcsFileSystemE']\n",
      "  warnings.warn(f\"file system plugins are not loaded: {e}\")\n"
     ]
    }
   ],
   "source": [
    "from keras.layers import Input, Dense\n",
    "from keras.models import Model\n",
    "from keras.datasets import mnist\n",
    "\n",
    "import numpy as np\n",
    "\n",
    "import matplotlib.pyplot as plt\n",
    "%matplotlib inline"
   ]
  },
  {
   "cell_type": "code",
   "execution_count": 2,
   "id": "b0fd4778",
   "metadata": {
    "execution": {
     "iopub.execute_input": "2023-08-23T13:17:38.155305Z",
     "iopub.status.busy": "2023-08-23T13:17:38.154053Z",
     "iopub.status.idle": "2023-08-23T13:17:38.567713Z",
     "shell.execute_reply": "2023-08-23T13:17:38.566584Z"
    },
    "papermill": {
     "duration": 0.421178,
     "end_time": "2023-08-23T13:17:38.570756",
     "exception": false,
     "start_time": "2023-08-23T13:17:38.149578",
     "status": "completed"
    },
    "tags": []
   },
   "outputs": [
    {
     "name": "stdout",
     "output_type": "stream",
     "text": [
      "Downloading data from https://storage.googleapis.com/tensorflow/tf-keras-datasets/mnist.npz\n",
      "11490434/11490434 [==============================] - 0s 0us/step\n",
      "X_train shape =  (60000, 28, 28)\n",
      "X_test shape =  (10000, 28, 28)\n",
      "y_train shape =  (60000,)\n",
      "y_test shape =  (10000,)\n"
     ]
    }
   ],
   "source": [
    "#Load our MNIST dataset.\n",
    "(X_train, y_train), (X_test, y_test) = mnist.load_data()\n",
    "\n",
    "print('X_train shape = ',X_train.shape)\n",
    "print('X_test shape = ',X_test.shape)\n",
    "print('y_train shape = ',y_train.shape)\n",
    "print('y_test shape = ',y_test.shape)"
   ]
  },
  {
   "cell_type": "code",
   "execution_count": 3,
   "id": "a3dfd4e0",
   "metadata": {
    "execution": {
     "iopub.execute_input": "2023-08-23T13:17:38.579927Z",
     "iopub.status.busy": "2023-08-23T13:17:38.579632Z",
     "iopub.status.idle": "2023-08-23T13:17:38.662112Z",
     "shell.execute_reply": "2023-08-23T13:17:38.660926Z"
    },
    "papermill": {
     "duration": 0.089737,
     "end_time": "2023-08-23T13:17:38.664938",
     "exception": false,
     "start_time": "2023-08-23T13:17:38.575201",
     "status": "completed"
    },
    "tags": []
   },
   "outputs": [
    {
     "name": "stdout",
     "output_type": "stream",
     "text": [
      "(60000, 784)\n",
      "(10000, 784)\n"
     ]
    }
   ],
   "source": [
    "X_train = X_train.astype('float32') / 255\n",
    "X_test = X_test.astype('float32') / 255\n",
    "\n",
    "X_train = X_train.reshape(60000, 784)\n",
    "X_test = X_test.reshape(10000, 784)\n",
    "\n",
    "print (X_train.shape)\n",
    "print (X_test.shape)"
   ]
  },
  {
   "cell_type": "code",
   "execution_count": 4,
   "id": "b980119a",
   "metadata": {
    "execution": {
     "iopub.execute_input": "2023-08-23T13:17:38.674298Z",
     "iopub.status.busy": "2023-08-23T13:17:38.673910Z",
     "iopub.status.idle": "2023-08-23T13:17:41.909825Z",
     "shell.execute_reply": "2023-08-23T13:17:41.908854Z"
    },
    "papermill": {
     "duration": 3.257209,
     "end_time": "2023-08-23T13:17:41.926175",
     "exception": false,
     "start_time": "2023-08-23T13:17:38.668966",
     "status": "completed"
    },
    "tags": []
   },
   "outputs": [
    {
     "name": "stdout",
     "output_type": "stream",
     "text": [
      "Model: \"model\"\n",
      "_________________________________________________________________\n",
      " Layer (type)                Output Shape              Param #   \n",
      "=================================================================\n",
      " input_1 (InputLayer)        [(None, 784)]             0         \n",
      "                                                                 \n",
      " dense (Dense)               (None, 256)               200960    \n",
      "                                                                 \n",
      " dense_1 (Dense)             (None, 128)               32896     \n",
      "                                                                 \n",
      " dense_2 (Dense)             (None, 64)                8256      \n",
      "                                                                 \n",
      " dense_3 (Dense)             (None, 32)                2080      \n",
      "                                                                 \n",
      " dense_4 (Dense)             (None, 64)                2112      \n",
      "                                                                 \n",
      " dense_5 (Dense)             (None, 128)               8320      \n",
      "                                                                 \n",
      " dense_6 (Dense)             (None, 256)               33024     \n",
      "                                                                 \n",
      " dense_7 (Dense)             (None, 784)               201488    \n",
      "                                                                 \n",
      "=================================================================\n",
      "Total params: 489,136\n",
      "Trainable params: 489,136\n",
      "Non-trainable params: 0\n",
      "_________________________________________________________________\n"
     ]
    }
   ],
   "source": [
    "input_layer = Input(shape = (784,))\n",
    "\n",
    "hidden1_layer = Dense(256, activation = 'relu')(input_layer)\n",
    "hidden2_layer = Dense(128, activation = 'relu')(hidden1_layer)\n",
    "hidden3_layer = Dense(64, activation = 'relu')(hidden2_layer)\n",
    "hidden4_layer = Dense(32, activation = 'relu')(hidden3_layer)\n",
    "\n",
    "hidden5_layer = Dense(64, activation = 'relu')(hidden4_layer)\n",
    "hidden6_layer = Dense(128, activation = 'relu')(hidden5_layer)\n",
    "hidden7_layer = Dense(256, activation = 'relu')(hidden6_layer)\n",
    "\n",
    "output_layer = Dense(784, activation = 'sigmoid')(hidden7_layer)\n",
    "\n",
    "AutoencoderModel = Model(input_layer, output_layer)\n",
    "\n",
    "AutoencoderModel.summary()"
   ]
  },
  {
   "cell_type": "code",
   "execution_count": 5,
   "id": "e23b1f60",
   "metadata": {
    "execution": {
     "iopub.execute_input": "2023-08-23T13:17:41.938138Z",
     "iopub.status.busy": "2023-08-23T13:17:41.937850Z",
     "iopub.status.idle": "2023-08-23T13:20:07.142178Z",
     "shell.execute_reply": "2023-08-23T13:20:07.141151Z"
    },
    "papermill": {
     "duration": 145.213252,
     "end_time": "2023-08-23T13:20:07.144736",
     "exception": false,
     "start_time": "2023-08-23T13:17:41.931484",
     "status": "completed"
    },
    "tags": []
   },
   "outputs": [
    {
     "name": "stdout",
     "output_type": "stream",
     "text": [
      "Epoch 1/100\n",
      "235/235 [==============================] - 8s 7ms/step - loss: 0.2452 - val_loss: 0.1720\n",
      "Epoch 2/100\n",
      "235/235 [==============================] - 1s 5ms/step - loss: 0.1520 - val_loss: 0.1382\n",
      "Epoch 3/100\n",
      "235/235 [==============================] - 1s 5ms/step - loss: 0.1330 - val_loss: 0.1260\n",
      "Epoch 4/100\n",
      "235/235 [==============================] - 1s 5ms/step - loss: 0.1228 - val_loss: 0.1181\n",
      "Epoch 5/100\n",
      "235/235 [==============================] - 1s 5ms/step - loss: 0.1164 - val_loss: 0.1131\n",
      "Epoch 6/100\n",
      "235/235 [==============================] - 1s 6ms/step - loss: 0.1119 - val_loss: 0.1085\n",
      "Epoch 7/100\n",
      "235/235 [==============================] - 1s 5ms/step - loss: 0.1080 - val_loss: 0.1058\n",
      "Epoch 8/100\n",
      "235/235 [==============================] - 1s 5ms/step - loss: 0.1050 - val_loss: 0.1036\n",
      "Epoch 9/100\n",
      "235/235 [==============================] - 1s 5ms/step - loss: 0.1030 - val_loss: 0.1009\n",
      "Epoch 10/100\n",
      "235/235 [==============================] - 1s 6ms/step - loss: 0.1012 - val_loss: 0.1001\n",
      "Epoch 11/100\n",
      "235/235 [==============================] - 1s 5ms/step - loss: 0.0997 - val_loss: 0.0985\n",
      "Epoch 12/100\n",
      "235/235 [==============================] - 1s 5ms/step - loss: 0.0984 - val_loss: 0.0981\n",
      "Epoch 13/100\n",
      "235/235 [==============================] - 1s 5ms/step - loss: 0.0974 - val_loss: 0.0967\n",
      "Epoch 14/100\n",
      "235/235 [==============================] - 1s 6ms/step - loss: 0.0963 - val_loss: 0.0953\n",
      "Epoch 15/100\n",
      "235/235 [==============================] - 1s 5ms/step - loss: 0.0954 - val_loss: 0.0947\n",
      "Epoch 16/100\n",
      "235/235 [==============================] - 1s 5ms/step - loss: 0.0946 - val_loss: 0.0946\n",
      "Epoch 17/100\n",
      "235/235 [==============================] - 1s 5ms/step - loss: 0.0937 - val_loss: 0.0930\n",
      "Epoch 18/100\n",
      "235/235 [==============================] - 1s 5ms/step - loss: 0.0930 - val_loss: 0.0922\n",
      "Epoch 19/100\n",
      "235/235 [==============================] - 1s 5ms/step - loss: 0.0922 - val_loss: 0.0919\n",
      "Epoch 20/100\n",
      "235/235 [==============================] - 1s 5ms/step - loss: 0.0915 - val_loss: 0.0911\n",
      "Epoch 21/100\n",
      "235/235 [==============================] - 1s 6ms/step - loss: 0.0909 - val_loss: 0.0904\n",
      "Epoch 22/100\n",
      "235/235 [==============================] - 1s 6ms/step - loss: 0.0902 - val_loss: 0.0907\n",
      "Epoch 23/100\n",
      "235/235 [==============================] - 2s 7ms/step - loss: 0.0896 - val_loss: 0.0894\n",
      "Epoch 24/100\n",
      "235/235 [==============================] - 1s 5ms/step - loss: 0.0891 - val_loss: 0.0891\n",
      "Epoch 25/100\n",
      "235/235 [==============================] - 1s 5ms/step - loss: 0.0886 - val_loss: 0.0885\n",
      "Epoch 26/100\n",
      "235/235 [==============================] - 1s 5ms/step - loss: 0.0882 - val_loss: 0.0884\n",
      "Epoch 27/100\n",
      "235/235 [==============================] - 1s 5ms/step - loss: 0.0879 - val_loss: 0.0879\n",
      "Epoch 28/100\n",
      "235/235 [==============================] - 1s 5ms/step - loss: 0.0874 - val_loss: 0.0874\n",
      "Epoch 29/100\n",
      "235/235 [==============================] - 1s 6ms/step - loss: 0.0871 - val_loss: 0.0878\n",
      "Epoch 30/100\n",
      "235/235 [==============================] - 1s 5ms/step - loss: 0.0869 - val_loss: 0.0869\n",
      "Epoch 31/100\n",
      "235/235 [==============================] - 1s 5ms/step - loss: 0.0865 - val_loss: 0.0871\n",
      "Epoch 32/100\n",
      "235/235 [==============================] - 1s 5ms/step - loss: 0.0863 - val_loss: 0.0864\n",
      "Epoch 33/100\n",
      "235/235 [==============================] - 1s 5ms/step - loss: 0.0860 - val_loss: 0.0863\n",
      "Epoch 34/100\n",
      "235/235 [==============================] - 1s 5ms/step - loss: 0.0857 - val_loss: 0.0860\n",
      "Epoch 35/100\n",
      "235/235 [==============================] - 1s 6ms/step - loss: 0.0855 - val_loss: 0.0861\n",
      "Epoch 36/100\n",
      "235/235 [==============================] - 1s 5ms/step - loss: 0.0854 - val_loss: 0.0854\n",
      "Epoch 37/100\n",
      "235/235 [==============================] - 1s 6ms/step - loss: 0.0850 - val_loss: 0.0853\n",
      "Epoch 38/100\n",
      "235/235 [==============================] - 1s 5ms/step - loss: 0.0849 - val_loss: 0.0851\n",
      "Epoch 39/100\n",
      "235/235 [==============================] - 1s 5ms/step - loss: 0.0845 - val_loss: 0.0849\n",
      "Epoch 40/100\n",
      "235/235 [==============================] - 1s 5ms/step - loss: 0.0843 - val_loss: 0.0850\n",
      "Epoch 41/100\n",
      "235/235 [==============================] - 1s 6ms/step - loss: 0.0842 - val_loss: 0.0844\n",
      "Epoch 42/100\n",
      "235/235 [==============================] - 1s 5ms/step - loss: 0.0840 - val_loss: 0.0848\n",
      "Epoch 43/100\n",
      "235/235 [==============================] - 1s 5ms/step - loss: 0.0838 - val_loss: 0.0842\n",
      "Epoch 44/100\n",
      "235/235 [==============================] - 1s 5ms/step - loss: 0.0837 - val_loss: 0.0840\n",
      "Epoch 45/100\n",
      "235/235 [==============================] - 1s 6ms/step - loss: 0.0836 - val_loss: 0.0841\n",
      "Epoch 46/100\n",
      "235/235 [==============================] - 1s 5ms/step - loss: 0.0834 - val_loss: 0.0839\n",
      "Epoch 47/100\n",
      "235/235 [==============================] - 2s 7ms/step - loss: 0.0831 - val_loss: 0.0837\n",
      "Epoch 48/100\n",
      "235/235 [==============================] - 1s 6ms/step - loss: 0.0831 - val_loss: 0.0834\n",
      "Epoch 49/100\n",
      "235/235 [==============================] - 1s 5ms/step - loss: 0.0829 - val_loss: 0.0832\n",
      "Epoch 50/100\n",
      "235/235 [==============================] - 1s 5ms/step - loss: 0.0827 - val_loss: 0.0835\n",
      "Epoch 51/100\n",
      "235/235 [==============================] - 1s 5ms/step - loss: 0.0827 - val_loss: 0.0831\n",
      "Epoch 52/100\n",
      "235/235 [==============================] - 1s 6ms/step - loss: 0.0824 - val_loss: 0.0828\n",
      "Epoch 53/100\n",
      "235/235 [==============================] - 1s 5ms/step - loss: 0.0823 - val_loss: 0.0826\n",
      "Epoch 54/100\n",
      "235/235 [==============================] - 1s 5ms/step - loss: 0.0821 - val_loss: 0.0826\n",
      "Epoch 55/100\n",
      "235/235 [==============================] - 1s 5ms/step - loss: 0.0820 - val_loss: 0.0825\n",
      "Epoch 56/100\n",
      "235/235 [==============================] - 1s 5ms/step - loss: 0.0819 - val_loss: 0.0824\n",
      "Epoch 57/100\n",
      "235/235 [==============================] - 1s 5ms/step - loss: 0.0818 - val_loss: 0.0827\n",
      "Epoch 58/100\n",
      "235/235 [==============================] - 1s 5ms/step - loss: 0.0817 - val_loss: 0.0821\n",
      "Epoch 59/100\n",
      "235/235 [==============================] - 1s 5ms/step - loss: 0.0815 - val_loss: 0.0822\n",
      "Epoch 60/100\n",
      "235/235 [==============================] - 1s 6ms/step - loss: 0.0814 - val_loss: 0.0819\n",
      "Epoch 61/100\n",
      "235/235 [==============================] - 1s 5ms/step - loss: 0.0814 - val_loss: 0.0821\n",
      "Epoch 62/100\n",
      "235/235 [==============================] - 1s 5ms/step - loss: 0.0813 - val_loss: 0.0818\n",
      "Epoch 63/100\n",
      "235/235 [==============================] - 1s 5ms/step - loss: 0.0812 - val_loss: 0.0822\n",
      "Epoch 64/100\n",
      "235/235 [==============================] - 1s 5ms/step - loss: 0.0811 - val_loss: 0.0819\n",
      "Epoch 65/100\n",
      "235/235 [==============================] - 1s 6ms/step - loss: 0.0810 - val_loss: 0.0816\n",
      "Epoch 66/100\n",
      "235/235 [==============================] - 1s 5ms/step - loss: 0.0810 - val_loss: 0.0817\n",
      "Epoch 67/100\n",
      "235/235 [==============================] - 1s 5ms/step - loss: 0.0809 - val_loss: 0.0816\n",
      "Epoch 68/100\n",
      "235/235 [==============================] - 1s 6ms/step - loss: 0.0808 - val_loss: 0.0815\n",
      "Epoch 69/100\n",
      "235/235 [==============================] - 1s 5ms/step - loss: 0.0807 - val_loss: 0.0820\n",
      "Epoch 70/100\n",
      "235/235 [==============================] - 1s 5ms/step - loss: 0.0808 - val_loss: 0.0817\n",
      "Epoch 71/100\n",
      "235/235 [==============================] - 1s 5ms/step - loss: 0.0806 - val_loss: 0.0815\n",
      "Epoch 72/100\n",
      "235/235 [==============================] - 2s 8ms/step - loss: 0.0806 - val_loss: 0.0813\n",
      "Epoch 73/100\n",
      "235/235 [==============================] - 1s 5ms/step - loss: 0.0805 - val_loss: 0.0816\n",
      "Epoch 74/100\n",
      "235/235 [==============================] - 1s 5ms/step - loss: 0.0805 - val_loss: 0.0810\n",
      "Epoch 75/100\n",
      "235/235 [==============================] - 1s 6ms/step - loss: 0.0804 - val_loss: 0.0816\n",
      "Epoch 76/100\n",
      "235/235 [==============================] - 1s 6ms/step - loss: 0.0804 - val_loss: 0.0809\n",
      "Epoch 77/100\n",
      "235/235 [==============================] - 1s 6ms/step - loss: 0.0803 - val_loss: 0.0810\n",
      "Epoch 78/100\n",
      "235/235 [==============================] - 1s 6ms/step - loss: 0.0802 - val_loss: 0.0810\n",
      "Epoch 79/100\n",
      "235/235 [==============================] - 1s 5ms/step - loss: 0.0802 - val_loss: 0.0811\n",
      "Epoch 80/100\n",
      "235/235 [==============================] - 1s 5ms/step - loss: 0.0801 - val_loss: 0.0814\n",
      "Epoch 81/100\n",
      "235/235 [==============================] - 1s 5ms/step - loss: 0.0801 - val_loss: 0.0809\n",
      "Epoch 82/100\n",
      "235/235 [==============================] - 1s 5ms/step - loss: 0.0801 - val_loss: 0.0809\n",
      "Epoch 83/100\n",
      "235/235 [==============================] - 1s 6ms/step - loss: 0.0800 - val_loss: 0.0807\n",
      "Epoch 84/100\n",
      "235/235 [==============================] - 1s 5ms/step - loss: 0.0800 - val_loss: 0.0808\n",
      "Epoch 85/100\n",
      "235/235 [==============================] - 1s 5ms/step - loss: 0.0799 - val_loss: 0.0813\n",
      "Epoch 86/100\n",
      "235/235 [==============================] - 1s 5ms/step - loss: 0.0799 - val_loss: 0.0807\n",
      "Epoch 87/100\n",
      "235/235 [==============================] - 1s 5ms/step - loss: 0.0799 - val_loss: 0.0804\n",
      "Epoch 88/100\n",
      "235/235 [==============================] - 1s 6ms/step - loss: 0.0798 - val_loss: 0.0805\n",
      "Epoch 89/100\n",
      "235/235 [==============================] - 1s 5ms/step - loss: 0.0798 - val_loss: 0.0809\n",
      "Epoch 90/100\n",
      "235/235 [==============================] - 1s 5ms/step - loss: 0.0798 - val_loss: 0.0807\n",
      "Epoch 91/100\n",
      "235/235 [==============================] - 1s 6ms/step - loss: 0.0797 - val_loss: 0.0807\n",
      "Epoch 92/100\n",
      "235/235 [==============================] - 1s 5ms/step - loss: 0.0797 - val_loss: 0.0808\n",
      "Epoch 93/100\n",
      "235/235 [==============================] - 1s 5ms/step - loss: 0.0796 - val_loss: 0.0805\n",
      "Epoch 94/100\n",
      "235/235 [==============================] - 1s 5ms/step - loss: 0.0796 - val_loss: 0.0806\n",
      "Epoch 95/100\n",
      "235/235 [==============================] - 1s 5ms/step - loss: 0.0796 - val_loss: 0.0804\n",
      "Epoch 96/100\n",
      "235/235 [==============================] - 2s 7ms/step - loss: 0.0795 - val_loss: 0.0806\n",
      "Epoch 97/100\n",
      "235/235 [==============================] - 1s 6ms/step - loss: 0.0795 - val_loss: 0.0809\n",
      "Epoch 98/100\n",
      "235/235 [==============================] - 1s 6ms/step - loss: 0.0795 - val_loss: 0.0807\n",
      "Epoch 99/100\n",
      "235/235 [==============================] - 1s 5ms/step - loss: 0.0795 - val_loss: 0.0807\n",
      "Epoch 100/100\n",
      "235/235 [==============================] - 1s 5ms/step - loss: 0.0794 - val_loss: 0.0807\n",
      "313/313 [==============================] - 1s 2ms/step\n"
     ]
    }
   ],
   "source": [
    "AutoencoderModel.compile(optimizer = 'adam', loss = 'binary_crossentropy')\n",
    "\n",
    "history = AutoencoderModel.fit(X_train, X_train, batch_size = 256, epochs = 100, shuffle = True, validation_data = (X_test, X_test))\n",
    "predict_digit = AutoencoderModel.predict(X_test)"
   ]
  },
  {
   "cell_type": "code",
   "execution_count": 6,
   "id": "467b118f",
   "metadata": {
    "execution": {
     "iopub.execute_input": "2023-08-23T13:20:07.537318Z",
     "iopub.status.busy": "2023-08-23T13:20:07.536214Z",
     "iopub.status.idle": "2023-08-23T13:20:07.878862Z",
     "shell.execute_reply": "2023-08-23T13:20:07.877888Z"
    },
    "papermill": {
     "duration": 0.543745,
     "end_time": "2023-08-23T13:20:07.882922",
     "exception": false,
     "start_time": "2023-08-23T13:20:07.339177",
     "status": "completed"
    },
    "tags": []
   },
   "outputs": [
    {
     "name": "stdout",
     "output_type": "stream",
     "text": [
      "dict_keys(['loss', 'val_loss'])\n"
     ]
    },
    {
     "data": {
      "image/png": "[encoded data removed]",
      "text/plain": [
       "<Figure size 640x480 with 1 Axes>"
      ]
     },
     "metadata": {},
     "output_type": "display_data"
    }
   ],
   "source": [
    "def plotmodelhistory(history): \n",
    "    plt.plot(history.history['loss'])\n",
    "    plt.plot(history.history['val_loss'])\n",
    "    plt.title('Autoencoder Model loss')\n",
    "    plt.ylabel('Loss')\n",
    "    plt.xlabel('Epoch')\n",
    "    plt.legend(['Train', 'Test'], loc='upper left')\n",
    "    plt.show()\n",
    "\n",
    "# list all data in history\n",
    "print(history.history.keys())\n",
    "# visualization of the loss minimization during the training process\n",
    "plotmodelhistory(history)"
   ]
  },
  {
   "cell_type": "code",
   "execution_count": 7,
   "id": "7d877996",
   "metadata": {
    "execution": {
     "iopub.execute_input": "2023-08-23T13:20:08.280117Z",
     "iopub.status.busy": "2023-08-23T13:20:08.279759Z",
     "iopub.status.idle": "2023-08-23T13:20:08.719219Z",
     "shell.execute_reply": "2023-08-23T13:20:08.718151Z"
    },
    "papermill": {
     "duration": 0.639401,
     "end_time": "2023-08-23T13:20:08.721760",
     "exception": false,
     "start_time": "2023-08-23T13:20:08.082359",
     "status": "completed"
    },
    "tags": []
   },
   "outputs": [
    {
     "data": {
      "image/png": "[encoded data removed]",
      "text/plain": [
       "<Figure size 2000x400 with 10 Axes>"
      ]
     },
     "metadata": {},
     "output_type": "display_data"
    }
   ],
   "source": [
    "n = 5\n",
    "plt.figure(figsize=(20, 4))\n",
    "for i in range(n):\n",
    "    ax = plt.subplot(2, n, i + 1)\n",
    "    # input image\n",
    "    plt.imshow(X_test[i+10].reshape(28, 28))\n",
    "    plt.gray()\n",
    "    ax.get_xaxis().set_visible(False)\n",
    "    ax.get_yaxis().set_visible(False)\n",
    "    ax = plt.subplot(2, n, i + 1 + n)\n",
    "    # Image decoded by our Auto-encoder\n",
    "    plt.imshow(predict_digit[i+10].reshape(28, 28))\n",
    "    plt.gray()\n",
    "    ax.get_xaxis().set_visible(False)\n",
    "    ax.get_yaxis().set_visible(False)\n",
    "plt.show()"
   ]
  }
 ],
 "metadata": {
  "kernelspec": {
   "display_name": "Python 3",
   "language": "python",
   "name": "python3"
  },
  "language_info": {
   "codemirror_mode": {
    "name": "ipython",
    "version": 3
   },
   "file_extension": ".py",
   "mimetype": "text/x-python",
   "name": "python",
   "nbconvert_exporter": "python",
   "pygments_lexer": "ipython3",
   "version": "3.10.12"
  },
  "papermill": {
   "default_parameters": {},
   "duration": 172.976038,
   "end_time": "2023-08-23T13:20:12.419699",
   "environment_variables": {},
   "exception": null,
   "input_path": "__notebook__.ipynb",
   "output_path": "__notebook__.ipynb",
   "parameters": {},
   "start_time": "2023-08-23T13:17:19.443661",
   "version": "2.4.0"
  }
 },
 "nbformat": 4,
 "nbformat_minor": 5
}
