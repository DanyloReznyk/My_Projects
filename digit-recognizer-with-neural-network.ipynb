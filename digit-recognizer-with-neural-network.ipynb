{
 "cells": [
  {
   "cell_type": "code",
   "execution_count": 1,
   "id": "26d7f6a5",
   "metadata": {
    "_cell_guid": "b1076dfc-b9ad-4769-8c92-a6c4dae69d19",
    "_uuid": "8f2839f25d086af736a60e9eeb907d3b93b6e0e5",
    "execution": {
     "iopub.execute_input": "2023-08-11T13:43:44.398572Z",
     "iopub.status.busy": "2023-08-11T13:43:44.398076Z",
     "iopub.status.idle": "2023-08-11T13:43:44.415103Z",
     "shell.execute_reply": "2023-08-11T13:43:44.413664Z"
    },
    "papermill": {
     "duration": 0.028283,
     "end_time": "2023-08-11T13:43:44.417722",
     "exception": false,
     "start_time": "2023-08-11T13:43:44.389439",
     "status": "completed"
    },
    "tags": []
   },
   "outputs": [
    {
     "name": "stdout",
     "output_type": "stream",
     "text": [
      "/kaggle/input/digit-recognizer/sample_submission.csv\n",
      "/kaggle/input/digit-recognizer/train.csv\n",
      "/kaggle/input/digit-recognizer/test.csv\n"
     ]
    }
   ],
   "source": [
    "# This Python 3 environment comes with many helpful analytics libraries installed\n",
    "# It is defined by the kaggle/python Docker image: https://github.com/kaggle/docker-python\n",
    "# For example, here's several helpful packages to load\n",
    "\n",
    "import numpy as np # linear algebra\n",
    "import pandas as pd # data processing, CSV file I/O (e.g. pd.read_csv)\n",
    "\n",
    "\n",
    "# Input data files are available in the read-only \"../input/\" directory\n",
    "# For example, running this (by clicking run or pressing Shift+Enter) will list all files under the input directory\n",
    "\n",
    "import os\n",
    "for dirname, _, filenames in os.walk('/kaggle/input'):\n",
    "    for filename in filenames:\n",
    "        print(os.path.join(dirname, filename))\n",
    "\n",
    "# You can write up to 20GB to the current directory (/kaggle/working/) that gets preserved as output when you create a version using \"Save & Run All\" \n",
    "# You can also write temporary files to /kaggle/temp/, but they won't be saved outside of the current session"
   ]
  },
  {
   "cell_type": "code",
   "execution_count": 2,
   "id": "8c54e660",
   "metadata": {
    "execution": {
     "iopub.execute_input": "2023-08-11T13:43:44.431735Z",
     "iopub.status.busy": "2023-08-11T13:43:44.431015Z",
     "iopub.status.idle": "2023-08-11T13:43:50.925507Z",
     "shell.execute_reply": "2023-08-11T13:43:50.924344Z"
    },
    "papermill": {
     "duration": 6.504316,
     "end_time": "2023-08-11T13:43:50.928102",
     "exception": false,
     "start_time": "2023-08-11T13:43:44.423786",
     "status": "completed"
    },
    "tags": []
   },
   "outputs": [
    {
     "data": {
      "text/html": [
       "<div>\n",
       "<style scoped>\n",
       "    .dataframe tbody tr th:only-of-type {\n",
       "        vertical-align: middle;\n",
       "    }\n",
       "\n",
       "    .dataframe tbody tr th {\n",
       "        vertical-align: top;\n",
       "    }\n",
       "\n",
       "    .dataframe thead th {\n",
       "        text-align: right;\n",
       "    }\n",
       "</style>\n",
       "<table border=\"1\" class=\"dataframe\">\n",
       "  <thead>\n",
       "    <tr style=\"text-align: right;\">\n",
       "      <th></th>\n",
       "      <th>label</th>\n",
       "      <th>pixel0</th>\n",
       "      <th>pixel1</th>\n",
       "      <th>pixel2</th>\n",
       "      <th>pixel3</th>\n",
       "      <th>pixel4</th>\n",
       "      <th>pixel5</th>\n",
       "      <th>pixel6</th>\n",
       "      <th>pixel7</th>\n",
       "      <th>pixel8</th>\n",
       "      <th>...</th>\n",
       "      <th>pixel774</th>\n",
       "      <th>pixel775</th>\n",
       "      <th>pixel776</th>\n",
       "      <th>pixel777</th>\n",
       "      <th>pixel778</th>\n",
       "      <th>pixel779</th>\n",
       "      <th>pixel780</th>\n",
       "      <th>pixel781</th>\n",
       "      <th>pixel782</th>\n",
       "      <th>pixel783</th>\n",
       "    </tr>\n",
       "  </thead>\n",
       "  <tbody>\n",
       "    <tr>\n",
       "      <th>0</th>\n",
       "      <td>1</td>\n",
       "      <td>0</td>\n",
       "      <td>0</td>\n",
       "      <td>0</td>\n",
       "      <td>0</td>\n",
       "      <td>0</td>\n",
       "      <td>0</td>\n",
       "      <td>0</td>\n",
       "      <td>0</td>\n",
       "      <td>0</td>\n",
       "      <td>...</td>\n",
       "      <td>0</td>\n",
       "      <td>0</td>\n",
       "      <td>0</td>\n",
       "      <td>0</td>\n",
       "      <td>0</td>\n",
       "      <td>0</td>\n",
       "      <td>0</td>\n",
       "      <td>0</td>\n",
       "      <td>0</td>\n",
       "      <td>0</td>\n",
       "    </tr>\n",
       "    <tr>\n",
       "      <th>1</th>\n",
       "      <td>0</td>\n",
       "      <td>0</td>\n",
       "      <td>0</td>\n",
       "      <td>0</td>\n",
       "      <td>0</td>\n",
       "      <td>0</td>\n",
       "      <td>0</td>\n",
       "      <td>0</td>\n",
       "      <td>0</td>\n",
       "      <td>0</td>\n",
       "      <td>...</td>\n",
       "      <td>0</td>\n",
       "      <td>0</td>\n",
       "      <td>0</td>\n",
       "      <td>0</td>\n",
       "      <td>0</td>\n",
       "      <td>0</td>\n",
       "      <td>0</td>\n",
       "      <td>0</td>\n",
       "      <td>0</td>\n",
       "      <td>0</td>\n",
       "    </tr>\n",
       "    <tr>\n",
       "      <th>2</th>\n",
       "      <td>1</td>\n",
       "      <td>0</td>\n",
       "      <td>0</td>\n",
       "      <td>0</td>\n",
       "      <td>0</td>\n",
       "      <td>0</td>\n",
       "      <td>0</td>\n",
       "      <td>0</td>\n",
       "      <td>0</td>\n",
       "      <td>0</td>\n",
       "      <td>...</td>\n",
       "      <td>0</td>\n",
       "      <td>0</td>\n",
       "      <td>0</td>\n",
       "      <td>0</td>\n",
       "      <td>0</td>\n",
       "      <td>0</td>\n",
       "      <td>0</td>\n",
       "      <td>0</td>\n",
       "      <td>0</td>\n",
       "      <td>0</td>\n",
       "    </tr>\n",
       "    <tr>\n",
       "      <th>3</th>\n",
       "      <td>4</td>\n",
       "      <td>0</td>\n",
       "      <td>0</td>\n",
       "      <td>0</td>\n",
       "      <td>0</td>\n",
       "      <td>0</td>\n",
       "      <td>0</td>\n",
       "      <td>0</td>\n",
       "      <td>0</td>\n",
       "      <td>0</td>\n",
       "      <td>...</td>\n",
       "      <td>0</td>\n",
       "      <td>0</td>\n",
       "      <td>0</td>\n",
       "      <td>0</td>\n",
       "      <td>0</td>\n",
       "      <td>0</td>\n",
       "      <td>0</td>\n",
       "      <td>0</td>\n",
       "      <td>0</td>\n",
       "      <td>0</td>\n",
       "    </tr>\n",
       "    <tr>\n",
       "      <th>4</th>\n",
       "      <td>0</td>\n",
       "      <td>0</td>\n",
       "      <td>0</td>\n",
       "      <td>0</td>\n",
       "      <td>0</td>\n",
       "      <td>0</td>\n",
       "      <td>0</td>\n",
       "      <td>0</td>\n",
       "      <td>0</td>\n",
       "      <td>0</td>\n",
       "      <td>...</td>\n",
       "      <td>0</td>\n",
       "      <td>0</td>\n",
       "      <td>0</td>\n",
       "      <td>0</td>\n",
       "      <td>0</td>\n",
       "      <td>0</td>\n",
       "      <td>0</td>\n",
       "      <td>0</td>\n",
       "      <td>0</td>\n",
       "      <td>0</td>\n",
       "    </tr>\n",
       "  </tbody>\n",
       "</table>\n",
       "<p>5 rows × 785 columns</p>\n",
       "</div>"
      ],
      "text/plain": [
       "   label  pixel0  pixel1  pixel2  pixel3  pixel4  pixel5  pixel6  pixel7  \\\n",
       "0      1       0       0       0       0       0       0       0       0   \n",
       "1      0       0       0       0       0       0       0       0       0   \n",
       "2      1       0       0       0       0       0       0       0       0   \n",
       "3      4       0       0       0       0       0       0       0       0   \n",
       "4      0       0       0       0       0       0       0       0       0   \n",
       "\n",
       "   pixel8  ...  pixel774  pixel775  pixel776  pixel777  pixel778  pixel779  \\\n",
       "0       0  ...         0         0         0         0         0         0   \n",
       "1       0  ...         0         0         0         0         0         0   \n",
       "2       0  ...         0         0         0         0         0         0   \n",
       "3       0  ...         0         0         0         0         0         0   \n",
       "4       0  ...         0         0         0         0         0         0   \n",
       "\n",
       "   pixel780  pixel781  pixel782  pixel783  \n",
       "0         0         0         0         0  \n",
       "1         0         0         0         0  \n",
       "2         0         0         0         0  \n",
       "3         0         0         0         0  \n",
       "4         0         0         0         0  \n",
       "\n",
       "[5 rows x 785 columns]"
      ]
     },
     "execution_count": 2,
     "metadata": {},
     "output_type": "execute_result"
    }
   ],
   "source": [
    "train = pd.read_csv('/kaggle/input/digit-recognizer/train.csv')\n",
    "test = pd.read_csv('/kaggle/input/digit-recognizer/test.csv')\n",
    "train.head()"
   ]
  },
  {
   "cell_type": "code",
   "execution_count": 3,
   "id": "0f1da417",
   "metadata": {
    "execution": {
     "iopub.execute_input": "2023-08-11T13:43:50.942498Z",
     "iopub.status.busy": "2023-08-11T13:43:50.942114Z",
     "iopub.status.idle": "2023-08-11T13:43:51.226427Z",
     "shell.execute_reply": "2023-08-11T13:43:51.225366Z"
    },
    "papermill": {
     "duration": 0.29466,
     "end_time": "2023-08-11T13:43:51.229167",
     "exception": false,
     "start_time": "2023-08-11T13:43:50.934507",
     "status": "completed"
    },
    "tags": []
   },
   "outputs": [],
   "source": [
    "y = train['label'].values\n",
    "X = train.drop('label', axis = 1).values\n",
    "\n",
    "X = X / 255.0\n",
    "test = test / 255.0\n",
    "\n",
    "test = test.values"
   ]
  },
  {
   "cell_type": "code",
   "execution_count": 4,
   "id": "e0e04e61",
   "metadata": {
    "execution": {
     "iopub.execute_input": "2023-08-11T13:43:51.243588Z",
     "iopub.status.busy": "2023-08-11T13:43:51.243225Z",
     "iopub.status.idle": "2023-08-11T13:43:51.248403Z",
     "shell.execute_reply": "2023-08-11T13:43:51.247371Z"
    },
    "papermill": {
     "duration": 0.015148,
     "end_time": "2023-08-11T13:43:51.250697",
     "exception": false,
     "start_time": "2023-08-11T13:43:51.235549",
     "status": "completed"
    },
    "tags": []
   },
   "outputs": [],
   "source": [
    "X = X.reshape(-1, 28, 28, 1)\n",
    "test = test.reshape(-1, 28, 28, 1)"
   ]
  },
  {
   "cell_type": "code",
   "execution_count": 5,
   "id": "17a05765",
   "metadata": {
    "execution": {
     "iopub.execute_input": "2023-08-11T13:43:51.264134Z",
     "iopub.status.busy": "2023-08-11T13:43:51.263804Z",
     "iopub.status.idle": "2023-08-11T13:43:51.270003Z",
     "shell.execute_reply": "2023-08-11T13:43:51.269072Z"
    },
    "papermill": {
     "duration": 0.015351,
     "end_time": "2023-08-11T13:43:51.272184",
     "exception": false,
     "start_time": "2023-08-11T13:43:51.256833",
     "status": "completed"
    },
    "tags": []
   },
   "outputs": [
    {
     "data": {
      "text/plain": [
       "(42000, 28, 28, 1)"
      ]
     },
     "execution_count": 5,
     "metadata": {},
     "output_type": "execute_result"
    }
   ],
   "source": [
    "X.shape"
   ]
  },
  {
   "cell_type": "code",
   "execution_count": 6,
   "id": "38841e9c",
   "metadata": {
    "execution": {
     "iopub.execute_input": "2023-08-11T13:43:51.285479Z",
     "iopub.status.busy": "2023-08-11T13:43:51.285151Z",
     "iopub.status.idle": "2023-08-11T13:43:52.819517Z",
     "shell.execute_reply": "2023-08-11T13:43:52.818568Z"
    },
    "papermill": {
     "duration": 1.544056,
     "end_time": "2023-08-11T13:43:52.822231",
     "exception": false,
     "start_time": "2023-08-11T13:43:51.278175",
     "status": "completed"
    },
    "tags": []
   },
   "outputs": [
    {
     "name": "stderr",
     "output_type": "stream",
     "text": [
      "/opt/conda/lib/python3.10/site-packages/scipy/__init__.py:146: UserWarning: A NumPy version >=1.16.5 and <1.23.0 is required for this version of SciPy (detected version 1.23.5\n",
      "  warnings.warn(f\"A NumPy version >={np_minversion} and <{np_maxversion}\"\n"
     ]
    }
   ],
   "source": [
    "from sklearn.model_selection import train_test_split\n",
    "X_train, X_valid, y_train, y_valid = train_test_split(X, y, test_size = 0.1)"
   ]
  },
  {
   "cell_type": "code",
   "execution_count": 7,
   "id": "c446ca12",
   "metadata": {
    "execution": {
     "iopub.execute_input": "2023-08-11T13:43:52.838390Z",
     "iopub.status.busy": "2023-08-11T13:43:52.838033Z",
     "iopub.status.idle": "2023-08-11T13:44:01.490548Z",
     "shell.execute_reply": "2023-08-11T13:44:01.489495Z"
    },
    "papermill": {
     "duration": 8.663028,
     "end_time": "2023-08-11T13:44:01.493353",
     "exception": false,
     "start_time": "2023-08-11T13:43:52.830325",
     "status": "completed"
    },
    "tags": []
   },
   "outputs": [
    {
     "name": "stderr",
     "output_type": "stream",
     "text": [
      "/opt/conda/lib/python3.10/site-packages/tensorflow_io/python/ops/__init__.py:98: UserWarning: unable to load libtensorflow_io_plugins.so: unable to open file: libtensorflow_io_plugins.so, from paths: ['/opt/conda/lib/python3.10/site-packages/tensorflow_io/python/ops/libtensorflow_io_plugins.so']\n",
      "caused by: ['/opt/conda/lib/python3.10/site-packages/tensorflow_io/python/ops/libtensorflow_io_plugins.so: undefined symbol: _ZN3tsl6StatusC1EN10tensorflow5error4CodeESt17basic_string_viewIcSt11char_traitsIcEENS_14SourceLocationE']\n",
      "  warnings.warn(f\"unable to load libtensorflow_io_plugins.so: {e}\")\n",
      "/opt/conda/lib/python3.10/site-packages/tensorflow_io/python/ops/__init__.py:104: UserWarning: file system plugins are not loaded: unable to open file: libtensorflow_io.so, from paths: ['/opt/conda/lib/python3.10/site-packages/tensorflow_io/python/ops/libtensorflow_io.so']\n",
      "caused by: ['/opt/conda/lib/python3.10/site-packages/tensorflow_io/python/ops/libtensorflow_io.so: undefined symbol: _ZTVN10tensorflow13GcsFileSystemE']\n",
      "  warnings.warn(f\"file system plugins are not loaded: {e}\")\n"
     ]
    }
   ],
   "source": [
    "from tensorflow.keras import Sequential\n",
    "from tensorflow.keras import layers\n",
    "model = Sequential([\n",
    "    \n",
    "    layers.Conv2D(32, kernel_size = 3, padding = 'same', activation = 'relu', input_shape = (28, 28, 1)),\n",
    "    layers.MaxPool2D(pool_size = 2, strides = 2),\n",
    "    layers.BatchNormalization(),\n",
    "    \n",
    "    layers.Conv2D(64, kernel_size = 3, padding = 'same', activation = 'relu'),\n",
    "    layers.MaxPool2D(pool_size = 2, strides = 2),\n",
    "    layers.BatchNormalization(),\n",
    "    \n",
    "    layers.Flatten(),\n",
    "    layers.Dense(20, activation='relu'),\n",
    "    layers.BatchNormalization(),\n",
    "    layers.Dense(10, activation='softmax'),\n",
    "])"
   ]
  },
  {
   "cell_type": "code",
   "execution_count": 8,
   "id": "be207eb5",
   "metadata": {
    "execution": {
     "iopub.execute_input": "2023-08-11T13:44:01.509393Z",
     "iopub.status.busy": "2023-08-11T13:44:01.508776Z",
     "iopub.status.idle": "2023-08-11T13:44:01.576054Z",
     "shell.execute_reply": "2023-08-11T13:44:01.574973Z"
    },
    "papermill": {
     "duration": 0.078717,
     "end_time": "2023-08-11T13:44:01.578978",
     "exception": false,
     "start_time": "2023-08-11T13:44:01.500261",
     "status": "completed"
    },
    "tags": []
   },
   "outputs": [],
   "source": [
    "from tensorflow.keras.preprocessing.image import ImageDataGenerator\n",
    "gen = ImageDataGenerator(\n",
    "    width_shift_range = 0.1,\n",
    "    height_shift_range = 0.1,\n",
    "    rotation_range = 5\n",
    ")\n",
    "\n",
    "train_new = gen.flow(X_train, y_train, batch_size=32)\n",
    "valid_new = gen.flow(X_valid, y_valid, batch_size=32)"
   ]
  },
  {
   "cell_type": "code",
   "execution_count": 9,
   "id": "68b4ab65",
   "metadata": {
    "execution": {
     "iopub.execute_input": "2023-08-11T13:44:01.595141Z",
     "iopub.status.busy": "2023-08-11T13:44:01.594782Z",
     "iopub.status.idle": "2023-08-11T13:44:01.614131Z",
     "shell.execute_reply": "2023-08-11T13:44:01.613177Z"
    },
    "papermill": {
     "duration": 0.029914,
     "end_time": "2023-08-11T13:44:01.616635",
     "exception": false,
     "start_time": "2023-08-11T13:44:01.586721",
     "status": "completed"
    },
    "tags": []
   },
   "outputs": [],
   "source": [
    "model.compile(\n",
    "    optimizer = 'adam',\n",
    "    loss = 'sparse_categorical_crossentropy',\n",
    "    metrics = ['accuracy']\n",
    ")"
   ]
  },
  {
   "cell_type": "code",
   "execution_count": 10,
   "id": "627bca3b",
   "metadata": {
    "execution": {
     "iopub.execute_input": "2023-08-11T13:44:01.632206Z",
     "iopub.status.busy": "2023-08-11T13:44:01.631852Z",
     "iopub.status.idle": "2023-08-11T13:44:01.637860Z",
     "shell.execute_reply": "2023-08-11T13:44:01.636999Z"
    },
    "papermill": {
     "duration": 0.016449,
     "end_time": "2023-08-11T13:44:01.640093",
     "exception": false,
     "start_time": "2023-08-11T13:44:01.623644",
     "status": "completed"
    },
    "tags": []
   },
   "outputs": [],
   "source": [
    "from tensorflow.keras.callbacks import ReduceLROnPlateau\n",
    "from tensorflow.keras.callbacks import EarlyStopping\n",
    "\n",
    "reduce_lr = ReduceLROnPlateau(\n",
    "    monitor = 'val_loss',\n",
    "    factor = 0.2,\n",
    "    patience = 2,\n",
    "    min_lr = 0.00001\n",
    ")"
   ]
  },
  {
   "cell_type": "code",
   "execution_count": 11,
   "id": "6a3b6432",
   "metadata": {
    "execution": {
     "iopub.execute_input": "2023-08-11T13:44:01.654825Z",
     "iopub.status.busy": "2023-08-11T13:44:01.654203Z",
     "iopub.status.idle": "2023-08-11T13:44:01.659894Z",
     "shell.execute_reply": "2023-08-11T13:44:01.658897Z"
    },
    "papermill": {
     "duration": 0.015581,
     "end_time": "2023-08-11T13:44:01.662215",
     "exception": false,
     "start_time": "2023-08-11T13:44:01.646634",
     "status": "completed"
    },
    "tags": []
   },
   "outputs": [],
   "source": [
    "early_stopping = EarlyStopping(monitor = 'val_loss',\n",
    "                               patience = 3,\n",
    "                               restore_best_weights = True,\n",
    "                               min_delta = 0.0005,\n",
    "                               verbose = 1\n",
    ")"
   ]
  },
  {
   "cell_type": "code",
   "execution_count": 12,
   "id": "f9e3b5e7",
   "metadata": {
    "execution": {
     "iopub.execute_input": "2023-08-11T13:44:01.677152Z",
     "iopub.status.busy": "2023-08-11T13:44:01.676814Z",
     "iopub.status.idle": "2023-08-11T14:03:43.762052Z",
     "shell.execute_reply": "2023-08-11T14:03:43.760782Z"
    },
    "papermill": {
     "duration": 1182.095771,
     "end_time": "2023-08-11T14:03:43.764642",
     "exception": false,
     "start_time": "2023-08-11T13:44:01.668871",
     "status": "completed"
    },
    "tags": []
   },
   "outputs": [
    {
     "name": "stdout",
     "output_type": "stream",
     "text": [
      "Epoch 1/30\n",
      "1182/1182 [==============================] - 37s 29ms/step - loss: 0.2662 - accuracy: 0.9313 - val_loss: 0.3189 - val_accuracy: 0.9543\n",
      "Epoch 2/30\n",
      "1182/1182 [==============================] - 35s 29ms/step - loss: 0.0966 - accuracy: 0.9716 - val_loss: 0.0974 - val_accuracy: 0.9700\n",
      "Epoch 3/30\n",
      "1182/1182 [==============================] - 35s 30ms/step - loss: 0.0760 - accuracy: 0.9769 - val_loss: 0.0772 - val_accuracy: 0.9740\n",
      "Epoch 4/30\n",
      "1182/1182 [==============================] - 35s 29ms/step - loss: 0.0662 - accuracy: 0.9797 - val_loss: 0.0880 - val_accuracy: 0.9731\n",
      "Epoch 5/30\n",
      "1182/1182 [==============================] - 35s 29ms/step - loss: 0.0555 - accuracy: 0.9834 - val_loss: 0.0674 - val_accuracy: 0.9793\n",
      "Epoch 6/30\n",
      "1182/1182 [==============================] - 35s 29ms/step - loss: 0.0550 - accuracy: 0.9829 - val_loss: 0.0451 - val_accuracy: 0.9850\n",
      "Epoch 7/30\n",
      "1182/1182 [==============================] - 36s 30ms/step - loss: 0.0494 - accuracy: 0.9845 - val_loss: 0.0720 - val_accuracy: 0.9800\n",
      "Epoch 8/30\n",
      "1182/1182 [==============================] - 34s 29ms/step - loss: 0.0469 - accuracy: 0.9853 - val_loss: 0.0543 - val_accuracy: 0.9805\n",
      "Epoch 9/30\n",
      "1182/1182 [==============================] - 35s 30ms/step - loss: 0.0464 - accuracy: 0.9851 - val_loss: 0.0447 - val_accuracy: 0.9869\n",
      "Epoch 10/30\n",
      "1182/1182 [==============================] - 35s 29ms/step - loss: 0.0422 - accuracy: 0.9870 - val_loss: 0.0405 - val_accuracy: 0.9886\n",
      "Epoch 11/30\n",
      "1182/1182 [==============================] - 34s 29ms/step - loss: 0.0376 - accuracy: 0.9882 - val_loss: 0.0485 - val_accuracy: 0.9831\n",
      "Epoch 12/30\n",
      "1182/1182 [==============================] - 35s 29ms/step - loss: 0.0400 - accuracy: 0.9869 - val_loss: 0.0503 - val_accuracy: 0.9862\n",
      "Epoch 13/30\n",
      "1182/1182 [==============================] - 35s 29ms/step - loss: 0.0375 - accuracy: 0.9876 - val_loss: 0.0450 - val_accuracy: 0.9881\n",
      "Epoch 14/30\n",
      "1182/1182 [==============================] - 35s 30ms/step - loss: 0.0372 - accuracy: 0.9882 - val_loss: 0.0490 - val_accuracy: 0.9855\n",
      "Epoch 15/30\n",
      "1182/1182 [==============================] - 36s 30ms/step - loss: 0.0366 - accuracy: 0.9886 - val_loss: 0.0325 - val_accuracy: 0.9893\n",
      "Epoch 16/30\n",
      "1182/1182 [==============================] - 35s 29ms/step - loss: 0.0328 - accuracy: 0.9896 - val_loss: 0.0344 - val_accuracy: 0.9905\n",
      "Epoch 17/30\n",
      "1182/1182 [==============================] - 35s 29ms/step - loss: 0.0306 - accuracy: 0.9906 - val_loss: 0.0387 - val_accuracy: 0.9879\n",
      "Epoch 18/30\n",
      "1182/1182 [==============================] - 35s 30ms/step - loss: 0.0320 - accuracy: 0.9897 - val_loss: 0.0403 - val_accuracy: 0.9886\n",
      "Epoch 19/30\n",
      "1182/1182 [==============================] - 35s 30ms/step - loss: 0.0318 - accuracy: 0.9899 - val_loss: 0.0360 - val_accuracy: 0.9898\n",
      "Epoch 20/30\n",
      "1182/1182 [==============================] - 35s 29ms/step - loss: 0.0276 - accuracy: 0.9907 - val_loss: 0.0362 - val_accuracy: 0.9917\n",
      "Epoch 21/30\n",
      "1182/1182 [==============================] - 35s 29ms/step - loss: 0.0293 - accuracy: 0.9899 - val_loss: 0.0327 - val_accuracy: 0.9900\n",
      "Epoch 22/30\n",
      "1182/1182 [==============================] - 36s 30ms/step - loss: 0.0281 - accuracy: 0.9910 - val_loss: 0.0456 - val_accuracy: 0.9862\n",
      "Epoch 23/30\n",
      "1182/1182 [==============================] - 35s 29ms/step - loss: 0.0275 - accuracy: 0.9912 - val_loss: 0.0381 - val_accuracy: 0.9881\n",
      "Epoch 24/30\n",
      "1182/1182 [==============================] - 35s 29ms/step - loss: 0.0271 - accuracy: 0.9916 - val_loss: 0.0331 - val_accuracy: 0.9895\n",
      "Epoch 25/30\n",
      "1182/1182 [==============================] - 35s 30ms/step - loss: 0.0267 - accuracy: 0.9911 - val_loss: 0.0378 - val_accuracy: 0.9890\n",
      "Epoch 26/30\n",
      "1182/1182 [==============================] - 35s 30ms/step - loss: 0.0269 - accuracy: 0.9913 - val_loss: 0.0317 - val_accuracy: 0.9905\n",
      "Epoch 27/30\n",
      "1182/1182 [==============================] - 36s 30ms/step - loss: 0.0268 - accuracy: 0.9913 - val_loss: 0.0307 - val_accuracy: 0.9910\n",
      "Epoch 28/30\n",
      "1182/1182 [==============================] - 35s 30ms/step - loss: 0.0243 - accuracy: 0.9925 - val_loss: 0.0360 - val_accuracy: 0.9900\n",
      "Epoch 29/30\n",
      "1182/1182 [==============================] - 35s 30ms/step - loss: 0.0249 - accuracy: 0.9915 - val_loss: 0.0407 - val_accuracy: 0.9871\n",
      "Epoch 30/30\n",
      "1182/1182 [==============================] - 35s 30ms/step - loss: 0.0242 - accuracy: 0.9924 - val_loss: 0.0324 - val_accuracy: 0.9910\n"
     ]
    }
   ],
   "source": [
    "history = model.fit(\n",
    "    train_new,\n",
    "    validation_data=valid_new,\n",
    "    epochs = 30\n",
    ")"
   ]
  },
  {
   "cell_type": "code",
   "execution_count": 13,
   "id": "62097fa6",
   "metadata": {
    "execution": {
     "iopub.execute_input": "2023-08-11T14:03:47.159067Z",
     "iopub.status.busy": "2023-08-11T14:03:47.158077Z",
     "iopub.status.idle": "2023-08-11T14:03:47.830391Z",
     "shell.execute_reply": "2023-08-11T14:03:47.829442Z"
    },
    "papermill": {
     "duration": 2.372582,
     "end_time": "2023-08-11T14:03:47.832851",
     "exception": false,
     "start_time": "2023-08-11T14:03:45.460269",
     "status": "completed"
    },
    "tags": []
   },
   "outputs": [
    {
     "data": {
      "image/png": "[encoded data removed]",
      "text/plain": [
       "<Figure size 640x480 with 1 Axes>"
      ]
     },
     "metadata": {},
     "output_type": "display_data"
    },
    {
     "data": {
      "image/png": "[encoded data removed]",
      "text/plain": [
       "<Figure size 640x480 with 1 Axes>"
      ]
     },
     "metadata": {},
     "output_type": "display_data"
    }
   ],
   "source": [
    "history_frame = pd.DataFrame(history.history)\n",
    "history_frame.loc[:, ['loss', 'val_loss']].plot()\n",
    "history_frame.loc[:, ['accuracy', 'val_accuracy']].plot();"
   ]
  },
  {
   "cell_type": "code",
   "execution_count": 14,
   "id": "7ca1d873",
   "metadata": {
    "execution": {
     "iopub.execute_input": "2023-08-11T14:03:51.124336Z",
     "iopub.status.busy": "2023-08-11T14:03:51.123582Z",
     "iopub.status.idle": "2023-08-11T14:04:01.730363Z",
     "shell.execute_reply": "2023-08-11T14:04:01.729268Z"
    },
    "papermill": {
     "duration": 12.29853,
     "end_time": "2023-08-11T14:04:01.733171",
     "exception": false,
     "start_time": "2023-08-11T14:03:49.434641",
     "status": "completed"
    },
    "tags": []
   },
   "outputs": [
    {
     "name": "stdout",
     "output_type": "stream",
     "text": [
      "875/875 [==============================] - 7s 7ms/step\n"
     ]
    }
   ],
   "source": [
    "pred = model.predict(test)\n",
    "\n",
    "pred = np.argmax(pred, axis=1)"
   ]
  },
  {
   "cell_type": "code",
   "execution_count": 15,
   "id": "8de53b44",
   "metadata": {
    "execution": {
     "iopub.execute_input": "2023-08-11T14:04:05.134988Z",
     "iopub.status.busy": "2023-08-11T14:04:05.134144Z",
     "iopub.status.idle": "2023-08-11T14:04:05.237877Z",
     "shell.execute_reply": "2023-08-11T14:04:05.236817Z"
    },
    "papermill": {
     "duration": 1.790918,
     "end_time": "2023-08-11T14:04:05.240226",
     "exception": false,
     "start_time": "2023-08-11T14:04:03.449308",
     "status": "completed"
    },
    "tags": []
   },
   "outputs": [
    {
     "data": {
      "text/html": [
       "<div>\n",
       "<style scoped>\n",
       "    .dataframe tbody tr th:only-of-type {\n",
       "        vertical-align: middle;\n",
       "    }\n",
       "\n",
       "    .dataframe tbody tr th {\n",
       "        vertical-align: top;\n",
       "    }\n",
       "\n",
       "    .dataframe thead th {\n",
       "        text-align: right;\n",
       "    }\n",
       "</style>\n",
       "<table border=\"1\" class=\"dataframe\">\n",
       "  <thead>\n",
       "    <tr style=\"text-align: right;\">\n",
       "      <th></th>\n",
       "      <th>ImageId</th>\n",
       "      <th>Label</th>\n",
       "    </tr>\n",
       "  </thead>\n",
       "  <tbody>\n",
       "    <tr>\n",
       "      <th>0</th>\n",
       "      <td>1</td>\n",
       "      <td>2</td>\n",
       "    </tr>\n",
       "    <tr>\n",
       "      <th>1</th>\n",
       "      <td>2</td>\n",
       "      <td>0</td>\n",
       "    </tr>\n",
       "    <tr>\n",
       "      <th>2</th>\n",
       "      <td>3</td>\n",
       "      <td>9</td>\n",
       "    </tr>\n",
       "    <tr>\n",
       "      <th>3</th>\n",
       "      <td>4</td>\n",
       "      <td>0</td>\n",
       "    </tr>\n",
       "    <tr>\n",
       "      <th>4</th>\n",
       "      <td>5</td>\n",
       "      <td>3</td>\n",
       "    </tr>\n",
       "  </tbody>\n",
       "</table>\n",
       "</div>"
      ],
      "text/plain": [
       "   ImageId  Label\n",
       "0        1      2\n",
       "1        2      0\n",
       "2        3      9\n",
       "3        4      0\n",
       "4        5      3"
      ]
     },
     "execution_count": 15,
     "metadata": {},
     "output_type": "execute_result"
    }
   ],
   "source": [
    "submissions = pd.read_csv('/kaggle/input/digit-recognizer/sample_submission.csv')\n",
    "submissions['Label'] = pred\n",
    "submissions.to_csv('submission.csv', index=False)\n",
    "submissions.head()\n"
   ]
  },
  {
   "cell_type": "code",
   "execution_count": 16,
   "id": "b376be05",
   "metadata": {
    "execution": {
     "iopub.execute_input": "2023-08-11T14:04:08.621519Z",
     "iopub.status.busy": "2023-08-11T14:04:08.621137Z",
     "iopub.status.idle": "2023-08-11T14:04:08.627104Z",
     "shell.execute_reply": "2023-08-11T14:04:08.626256Z"
    },
    "papermill": {
     "duration": 1.764825,
     "end_time": "2023-08-11T14:04:08.629033",
     "exception": false,
     "start_time": "2023-08-11T14:04:06.864208",
     "status": "completed"
    },
    "tags": []
   },
   "outputs": [
    {
     "data": {
      "text/plain": [
       "28000"
      ]
     },
     "execution_count": 16,
     "metadata": {},
     "output_type": "execute_result"
    }
   ],
   "source": [
    "len(submissions)"
   ]
  }
 ],
 "metadata": {
  "kernelspec": {
   "display_name": "Python 3",
   "language": "python",
   "name": "python3"
  },
  "language_info": {
   "codemirror_mode": {
    "name": "ipython",
    "version": 3
   },
   "file_extension": ".py",
   "mimetype": "text/x-python",
   "name": "python",
   "nbconvert_exporter": "python",
   "pygments_lexer": "ipython3",
   "version": "3.10.12"
  },
  "papermill": {
   "default_parameters": {},
   "duration": 1238.667498,
   "end_time": "2023-08-11T14:04:12.280265",
   "environment_variables": {},
   "exception": null,
   "input_path": "__notebook__.ipynb",
   "output_path": "__notebook__.ipynb",
   "parameters": {},
   "start_time": "2023-08-11T13:43:33.612767",
   "version": "2.4.0"
  }
 },
 "nbformat": 4,
 "nbformat_minor": 5
}
