{
 "cells": [
  {
   "cell_type": "code",
   "execution_count": 1,
   "id": "c04834ca",
   "metadata": {
    "_cell_guid": "b1076dfc-b9ad-4769-8c92-a6c4dae69d19",
    "_uuid": "8f2839f25d086af736a60e9eeb907d3b93b6e0e5",
    "execution": {
     "iopub.execute_input": "2023-07-25T12:34:31.294928Z",
     "iopub.status.busy": "2023-07-25T12:34:31.294202Z",
     "iopub.status.idle": "2023-07-25T12:34:31.310544Z",
     "shell.execute_reply": "2023-07-25T12:34:31.309049Z"
    },
    "papermill": {
     "duration": 0.025574,
     "end_time": "2023-07-25T12:34:31.313492",
     "exception": false,
     "start_time": "2023-07-25T12:34:31.287918",
     "status": "completed"
    },
    "tags": []
   },
   "outputs": [
    {
     "name": "stdout",
     "output_type": "stream",
     "text": [
      "/kaggle/input/digit-recognizer/sample_submission.csv\n",
      "/kaggle/input/digit-recognizer/train.csv\n",
      "/kaggle/input/digit-recognizer/test.csv\n"
     ]
    }
   ],
   "source": [
    "# This Python 3 environment comes with many helpful analytics libraries installed\n",
    "# It is defined by the kaggle/python Docker image: https://github.com/kaggle/docker-python\n",
    "# For example, here's several helpful packages to load\n",
    "\n",
    "import numpy as np # linear algebra\n",
    "import pandas as pd # data processing, CSV file I/O (e.g. pd.read_csv)\n",
    "\n",
    "# Input data files are available in the read-only \"../input/\" directory\n",
    "# For example, running this (by clicking run or pressing Shift+Enter) will list all files under the input directory\n",
    "\n",
    "import os\n",
    "for dirname, _, filenames in os.walk('/kaggle/input'):\n",
    "    for filename in filenames:\n",
    "        print(os.path.join(dirname, filename))\n",
    "\n",
    "# You can write up to 20GB to the current directory (/kaggle/working/) that gets preserved as output when you create a version using \"Save & Run All\" \n",
    "# You can also write temporary files to /kaggle/temp/, but they won't be saved outside of the current session"
   ]
  },
  {
   "cell_type": "code",
   "execution_count": 2,
   "id": "5092d6e8",
   "metadata": {
    "execution": {
     "iopub.execute_input": "2023-07-25T12:34:31.323632Z",
     "iopub.status.busy": "2023-07-25T12:34:31.323253Z",
     "iopub.status.idle": "2023-07-25T12:34:38.142910Z",
     "shell.execute_reply": "2023-07-25T12:34:38.141718Z"
    },
    "papermill": {
     "duration": 6.828014,
     "end_time": "2023-07-25T12:34:38.145885",
     "exception": false,
     "start_time": "2023-07-25T12:34:31.317871",
     "status": "completed"
    },
    "tags": []
   },
   "outputs": [],
   "source": [
    "train = pd.read_csv('/kaggle/input/digit-recognizer/train.csv')\n",
    "test = pd.read_csv('/kaggle/input/digit-recognizer/test.csv')"
   ]
  },
  {
   "cell_type": "code",
   "execution_count": 3,
   "id": "e840c3ac",
   "metadata": {
    "execution": {
     "iopub.execute_input": "2023-07-25T12:34:38.156286Z",
     "iopub.status.busy": "2023-07-25T12:34:38.155904Z",
     "iopub.status.idle": "2023-07-25T12:34:38.223234Z",
     "shell.execute_reply": "2023-07-25T12:34:38.221847Z"
    },
    "papermill": {
     "duration": 0.075855,
     "end_time": "2023-07-25T12:34:38.226289",
     "exception": false,
     "start_time": "2023-07-25T12:34:38.150434",
     "status": "completed"
    },
    "tags": []
   },
   "outputs": [
    {
     "name": "stdout",
     "output_type": "stream",
     "text": [
      "<class 'pandas.core.frame.DataFrame'>\n",
      "RangeIndex: 42000 entries, 0 to 41999\n",
      "Columns: 785 entries, label to pixel783\n",
      "dtypes: int64(785)\n",
      "memory usage: 251.5 MB\n"
     ]
    }
   ],
   "source": [
    "train.info()"
   ]
  },
  {
   "cell_type": "code",
   "execution_count": 4,
   "id": "05e7671f",
   "metadata": {
    "execution": {
     "iopub.execute_input": "2023-07-25T12:34:38.236777Z",
     "iopub.status.busy": "2023-07-25T12:34:38.236368Z",
     "iopub.status.idle": "2023-07-25T12:34:38.366171Z",
     "shell.execute_reply": "2023-07-25T12:34:38.364880Z"
    },
    "papermill": {
     "duration": 0.138964,
     "end_time": "2023-07-25T12:34:38.369554",
     "exception": false,
     "start_time": "2023-07-25T12:34:38.230590",
     "status": "completed"
    },
    "tags": []
   },
   "outputs": [],
   "source": [
    "X = train.drop(\"label\", axis =1)\n",
    "y = train['label']"
   ]
  },
  {
   "cell_type": "code",
   "execution_count": 5,
   "id": "f917864e",
   "metadata": {
    "execution": {
     "iopub.execute_input": "2023-07-25T12:34:38.380457Z",
     "iopub.status.busy": "2023-07-25T12:34:38.379666Z",
     "iopub.status.idle": "2023-07-25T12:34:40.102226Z",
     "shell.execute_reply": "2023-07-25T12:34:40.100478Z"
    },
    "papermill": {
     "duration": 1.731429,
     "end_time": "2023-07-25T12:34:40.105487",
     "exception": false,
     "start_time": "2023-07-25T12:34:38.374058",
     "status": "completed"
    },
    "tags": []
   },
   "outputs": [
    {
     "name": "stderr",
     "output_type": "stream",
     "text": [
      "/opt/conda/lib/python3.10/site-packages/scipy/__init__.py:146: UserWarning: A NumPy version >=1.16.5 and <1.23.0 is required for this version of SciPy (detected version 1.23.5\n",
      "  warnings.warn(f\"A NumPy version >={np_minversion} and <{np_maxversion}\"\n"
     ]
    }
   ],
   "source": [
    "from sklearn.model_selection import train_test_split\n",
    "X_train, X_test, y_train, y_test = train_test_split(X, y, test_size = 0.2)"
   ]
  },
  {
   "cell_type": "code",
   "execution_count": 6,
   "id": "5afaf502",
   "metadata": {
    "execution": {
     "iopub.execute_input": "2023-07-25T12:34:40.118850Z",
     "iopub.status.busy": "2023-07-25T12:34:40.116374Z",
     "iopub.status.idle": "2023-07-25T12:34:44.327679Z",
     "shell.execute_reply": "2023-07-25T12:34:44.326025Z"
    },
    "papermill": {
     "duration": 4.222104,
     "end_time": "2023-07-25T12:34:44.332668",
     "exception": false,
     "start_time": "2023-07-25T12:34:40.110564",
     "status": "completed"
    },
    "tags": []
   },
   "outputs": [],
   "source": [
    "from sklearn.decomposition import PCA\n",
    "pca = PCA(n_components=100)\n",
    "pca.fit(X_train)\n",
    "X_train = pca.transform(X_train)\n",
    "X_test = pca.transform(X_test)"
   ]
  },
  {
   "cell_type": "code",
   "execution_count": 7,
   "id": "7967e8ff",
   "metadata": {
    "execution": {
     "iopub.execute_input": "2023-07-25T12:34:44.353936Z",
     "iopub.status.busy": "2023-07-25T12:34:44.353169Z",
     "iopub.status.idle": "2023-07-25T12:35:07.466069Z",
     "shell.execute_reply": "2023-07-25T12:35:07.465038Z"
    },
    "papermill": {
     "duration": 23.126188,
     "end_time": "2023-07-25T12:35:07.468557",
     "exception": false,
     "start_time": "2023-07-25T12:34:44.342369",
     "status": "completed"
    },
    "tags": []
   },
   "outputs": [
    {
     "data": {
      "text/html": [
       "<style>#sk-container-id-1 {color: black;background-color: white;}#sk-container-id-1 pre{padding: 0;}#sk-container-id-1 div.sk-toggleable {background-color: white;}#sk-container-id-1 label.sk-toggleable__label {cursor: pointer;display: block;width: 100%;margin-bottom: 0;padding: 0.3em;box-sizing: border-box;text-align: center;}#sk-container-id-1 label.sk-toggleable__label-arrow:before {content: \"▸\";float: left;margin-right: 0.25em;color: #696969;}#sk-container-id-1 label.sk-toggleable__label-arrow:hover:before {color: black;}#sk-container-id-1 div.sk-estimator:hover label.sk-toggleable__label-arrow:before {color: black;}#sk-container-id-1 div.sk-toggleable__content {max-height: 0;max-width: 0;overflow: hidden;text-align: left;background-color: #f0f8ff;}#sk-container-id-1 div.sk-toggleable__content pre {margin: 0.2em;color: black;border-radius: 0.25em;background-color: #f0f8ff;}#sk-container-id-1 input.sk-toggleable__control:checked~div.sk-toggleable__content {max-height: 200px;max-width: 100%;overflow: auto;}#sk-container-id-1 input.sk-toggleable__control:checked~label.sk-toggleable__label-arrow:before {content: \"▾\";}#sk-container-id-1 div.sk-estimator input.sk-toggleable__control:checked~label.sk-toggleable__label {background-color: #d4ebff;}#sk-container-id-1 div.sk-label input.sk-toggleable__control:checked~label.sk-toggleable__label {background-color: #d4ebff;}#sk-container-id-1 input.sk-hidden--visually {border: 0;clip: rect(1px 1px 1px 1px);clip: rect(1px, 1px, 1px, 1px);height: 1px;margin: -1px;overflow: hidden;padding: 0;position: absolute;width: 1px;}#sk-container-id-1 div.sk-estimator {font-family: monospace;background-color: #f0f8ff;border: 1px dotted black;border-radius: 0.25em;box-sizing: border-box;margin-bottom: 0.5em;}#sk-container-id-1 div.sk-estimator:hover {background-color: #d4ebff;}#sk-container-id-1 div.sk-parallel-item::after {content: \"\";width: 100%;border-bottom: 1px solid gray;flex-grow: 1;}#sk-container-id-1 div.sk-label:hover label.sk-toggleable__label {background-color: #d4ebff;}#sk-container-id-1 div.sk-serial::before {content: \"\";position: absolute;border-left: 1px solid gray;box-sizing: border-box;top: 0;bottom: 0;left: 50%;z-index: 0;}#sk-container-id-1 div.sk-serial {display: flex;flex-direction: column;align-items: center;background-color: white;padding-right: 0.2em;padding-left: 0.2em;position: relative;}#sk-container-id-1 div.sk-item {position: relative;z-index: 1;}#sk-container-id-1 div.sk-parallel {display: flex;align-items: stretch;justify-content: center;background-color: white;position: relative;}#sk-container-id-1 div.sk-item::before, #sk-container-id-1 div.sk-parallel-item::before {content: \"\";position: absolute;border-left: 1px solid gray;box-sizing: border-box;top: 0;bottom: 0;left: 50%;z-index: -1;}#sk-container-id-1 div.sk-parallel-item {display: flex;flex-direction: column;z-index: 1;position: relative;background-color: white;}#sk-container-id-1 div.sk-parallel-item:first-child::after {align-self: flex-end;width: 50%;}#sk-container-id-1 div.sk-parallel-item:last-child::after {align-self: flex-start;width: 50%;}#sk-container-id-1 div.sk-parallel-item:only-child::after {width: 0;}#sk-container-id-1 div.sk-dashed-wrapped {border: 1px dashed gray;margin: 0 0.4em 0.5em 0.4em;box-sizing: border-box;padding-bottom: 0.4em;background-color: white;}#sk-container-id-1 div.sk-label label {font-family: monospace;font-weight: bold;display: inline-block;line-height: 1.2em;}#sk-container-id-1 div.sk-label-container {text-align: center;}#sk-container-id-1 div.sk-container {/* jupyter's `normalize.less` sets `[hidden] { display: none; }` but bootstrap.min.css set `[hidden] { display: none !important; }` so we also need the `!important` here to be able to override the default hidden behavior on the sphinx rendered scikit-learn.org. See: https://github.com/scikit-learn/scikit-learn/issues/21755 */display: inline-block !important;position: relative;}#sk-container-id-1 div.sk-text-repr-fallback {display: none;}</style><div id=\"sk-container-id-1\" class=\"sk-top-container\"><div class=\"sk-text-repr-fallback\"><pre>SVC()</pre><b>In a Jupyter environment, please rerun this cell to show the HTML representation or trust the notebook. <br />On GitHub, the HTML representation is unable to render, please try loading this page with nbviewer.org.</b></div><div class=\"sk-container\" hidden><div class=\"sk-item\"><div class=\"sk-estimator sk-toggleable\"><input class=\"sk-toggleable__control sk-hidden--visually\" id=\"sk-estimator-id-1\" type=\"checkbox\" checked><label for=\"sk-estimator-id-1\" class=\"sk-toggleable__label sk-toggleable__label-arrow\">SVC</label><div class=\"sk-toggleable__content\"><pre>SVC()</pre></div></div></div></div></div>"
      ],
      "text/plain": [
       "SVC()"
      ]
     },
     "execution_count": 7,
     "metadata": {},
     "output_type": "execute_result"
    }
   ],
   "source": [
    "from sklearn.svm import SVC\n",
    "clf = SVC()\n",
    "clf.fit(X_train, y_train)"
   ]
  },
  {
   "cell_type": "code",
   "execution_count": 8,
   "id": "0b0165a5",
   "metadata": {
    "execution": {
     "iopub.execute_input": "2023-07-25T12:35:07.480111Z",
     "iopub.status.busy": "2023-07-25T12:35:07.479048Z",
     "iopub.status.idle": "2023-07-25T12:35:16.655731Z",
     "shell.execute_reply": "2023-07-25T12:35:16.654791Z"
    },
    "papermill": {
     "duration": 9.185114,
     "end_time": "2023-07-25T12:35:16.658329",
     "exception": false,
     "start_time": "2023-07-25T12:35:07.473215",
     "status": "completed"
    },
    "tags": []
   },
   "outputs": [
    {
     "name": "stdout",
     "output_type": "stream",
     "text": [
      "0.9766666666666667\n"
     ]
    }
   ],
   "source": [
    "from sklearn.metrics import accuracy_score, classification_report, ConfusionMatrixDisplay\n",
    "y_pred = clf.predict(X_test)\n",
    "accuracy = accuracy_score(y_test, y_pred)\n",
    "print(accuracy)"
   ]
  },
  {
   "cell_type": "code",
   "execution_count": 9,
   "id": "a7ca20c6",
   "metadata": {
    "execution": {
     "iopub.execute_input": "2023-07-25T12:35:16.670880Z",
     "iopub.status.busy": "2023-07-25T12:35:16.670442Z",
     "iopub.status.idle": "2023-07-25T12:35:47.724983Z",
     "shell.execute_reply": "2023-07-25T12:35:47.723664Z"
    },
    "papermill": {
     "duration": 31.065072,
     "end_time": "2023-07-25T12:35:47.727954",
     "exception": false,
     "start_time": "2023-07-25T12:35:16.662882",
     "status": "completed"
    },
    "tags": []
   },
   "outputs": [
    {
     "name": "stdout",
     "output_type": "stream",
     "text": [
      "Length of test DataFrame: 28000\n",
      "Length of y_pred array: 8400\n"
     ]
    },
    {
     "name": "stderr",
     "output_type": "stream",
     "text": [
      "/opt/conda/lib/python3.10/site-packages/sklearn/base.py:439: UserWarning: X does not have valid feature names, but PCA was fitted with feature names\n",
      "  warnings.warn(\n"
     ]
    }
   ],
   "source": [
    "print(\"Length of test DataFrame:\", len(test))\n",
    "print(\"Length of y_pred array:\", len(y_pred))\n",
    "output = pd.DataFrame({'ImageId': test.index + 1, 'Label':clf.predict(pca.transform(test.values))})\n",
    "output.to_csv(\"submission.csv\", index=False)"
   ]
  }
 ],
 "metadata": {
  "kernelspec": {
   "display_name": "Python 3",
   "language": "python",
   "name": "python3"
  },
  "language_info": {
   "codemirror_mode": {
    "name": "ipython",
    "version": 3
   },
   "file_extension": ".py",
   "mimetype": "text/x-python",
   "name": "python",
   "nbconvert_exporter": "python",
   "pygments_lexer": "ipython3",
   "version": "3.10.12"
  },
  "papermill": {
   "default_parameters": {},
   "duration": 89.616473,
   "end_time": "2023-07-25T12:35:48.756457",
   "environment_variables": {},
   "exception": null,
   "input_path": "__notebook__.ipynb",
   "output_path": "__notebook__.ipynb",
   "parameters": {},
   "start_time": "2023-07-25T12:34:19.139984",
   "version": "2.4.0"
  }
 },
 "nbformat": 4,
 "nbformat_minor": 5
}
